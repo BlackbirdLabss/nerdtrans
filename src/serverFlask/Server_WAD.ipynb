{
  "cells": [
    {
      "cell_type": "code",
      "execution_count": 1,
      "metadata": {
        "colab": {
          "base_uri": "https://localhost:8080/"
        },
        "id": "VGDn9V5XBs5X",
        "outputId": "8cfffb47-f167-4538-9286-1ed8e8ad4c83"
      },
      "outputs": [
        {
          "name": "stdout",
          "output_type": "stream",
          "text": [
            "Requirement already satisfied: flask-ngrok in c:\\users\\a s u s\\appdata\\local\\programs\\python\\python310\\lib\\site-packages (0.0.25)\n",
            "Requirement already satisfied: Flask>=0.8 in c:\\users\\a s u s\\appdata\\local\\programs\\python\\python310\\lib\\site-packages (from flask-ngrok) (2.1.2)\n",
            "Requirement already satisfied: requests in c:\\users\\a s u s\\appdata\\local\\programs\\python\\python310\\lib\\site-packages (from flask-ngrok) (2.26.0)\n",
            "Requirement already satisfied: Jinja2>=3.0 in c:\\users\\a s u s\\appdata\\local\\programs\\python\\python310\\lib\\site-packages (from Flask>=0.8->flask-ngrok) (3.1.2)\n",
            "Requirement already satisfied: Werkzeug>=2.0 in c:\\users\\a s u s\\appdata\\local\\programs\\python\\python310\\lib\\site-packages (from Flask>=0.8->flask-ngrok) (2.1.1)\n",
            "Requirement already satisfied: itsdangerous>=2.0 in c:\\users\\a s u s\\appdata\\local\\programs\\python\\python310\\lib\\site-packages (from Flask>=0.8->flask-ngrok) (2.1.2)\n",
            "Requirement already satisfied: click>=8.0 in c:\\users\\a s u s\\appdata\\local\\programs\\python\\python310\\lib\\site-packages (from Flask>=0.8->flask-ngrok) (8.1.3)\n",
            "Requirement already satisfied: charset-normalizer~=2.0.0 in c:\\users\\a s u s\\appdata\\local\\programs\\python\\python310\\lib\\site-packages (from requests->flask-ngrok) (2.0.7)\n",
            "Requirement already satisfied: idna<4,>=2.5 in c:\\users\\a s u s\\appdata\\local\\programs\\python\\python310\\lib\\site-packages (from requests->flask-ngrok) (3.3)\n",
            "Requirement already satisfied: urllib3<1.27,>=1.21.1 in c:\\users\\a s u s\\appdata\\local\\programs\\python\\python310\\lib\\site-packages (from requests->flask-ngrok) (1.25.10)\n",
            "Requirement already satisfied: certifi>=2017.4.17 in c:\\users\\a s u s\\appdata\\local\\programs\\python\\python310\\lib\\site-packages (from requests->flask-ngrok) (2021.10.8)\n",
            "Requirement already satisfied: colorama in c:\\users\\a s u s\\appdata\\local\\programs\\python\\python310\\lib\\site-packages (from click>=8.0->Flask>=0.8->flask-ngrok) (0.4.4)\n",
            "Requirement already satisfied: MarkupSafe>=2.0 in c:\\users\\a s u s\\appdata\\local\\programs\\python\\python310\\lib\\site-packages (from Jinja2>=3.0->Flask>=0.8->flask-ngrok) (2.1.1)\n"
          ]
        },
        {
          "name": "stderr",
          "output_type": "stream",
          "text": [
            "WARNING: There was an error checking the latest version of pip.\n"
          ]
        },
        {
          "name": "stdout",
          "output_type": "stream",
          "text": [
            "Requirement already satisfied: gevent in c:\\users\\a s u s\\appdata\\local\\programs\\python\\python310\\lib\\site-packages (21.12.0)\n",
            "Requirement already satisfied: greenlet<2.0,>=1.1.0 in c:\\users\\a s u s\\appdata\\local\\programs\\python\\python310\\lib\\site-packages (from gevent) (1.1.2)\n",
            "Requirement already satisfied: zope.interface in c:\\users\\a s u s\\appdata\\local\\programs\\python\\python310\\lib\\site-packages (from gevent) (5.4.0)\n",
            "Requirement already satisfied: zope.event in c:\\users\\a s u s\\appdata\\local\\programs\\python\\python310\\lib\\site-packages (from gevent) (4.5.0)\n",
            "Requirement already satisfied: cffi>=1.12.2 in c:\\users\\a s u s\\appdata\\local\\programs\\python\\python310\\lib\\site-packages (from gevent) (1.15.0)\n",
            "Requirement already satisfied: setuptools in c:\\users\\a s u s\\appdata\\local\\programs\\python\\python310\\lib\\site-packages (from gevent) (57.4.0)\n",
            "Requirement already satisfied: pycparser in c:\\users\\a s u s\\appdata\\local\\programs\\python\\python310\\lib\\site-packages (from cffi>=1.12.2->gevent) (2.21)\n"
          ]
        },
        {
          "name": "stderr",
          "output_type": "stream",
          "text": [
            "WARNING: There was an error checking the latest version of pip.\n"
          ]
        },
        {
          "name": "stdout",
          "output_type": "stream",
          "text": [
            "Requirement already satisfied: flask in c:\\users\\a s u s\\appdata\\local\\programs\\python\\python310\\lib\\site-packages (2.1.2)\n",
            "Requirement already satisfied: itsdangerous>=2.0 in c:\\users\\a s u s\\appdata\\local\\programs\\python\\python310\\lib\\site-packages (from flask) (2.1.2)\n",
            "Requirement already satisfied: Werkzeug>=2.0 in c:\\users\\a s u s\\appdata\\local\\programs\\python\\python310\\lib\\site-packages (from flask) (2.1.1)\n",
            "Requirement already satisfied: click>=8.0 in c:\\users\\a s u s\\appdata\\local\\programs\\python\\python310\\lib\\site-packages (from flask) (8.1.3)\n",
            "Requirement already satisfied: Jinja2>=3.0 in c:\\users\\a s u s\\appdata\\local\\programs\\python\\python310\\lib\\site-packages (from flask) (3.1.2)\n",
            "Requirement already satisfied: colorama in c:\\users\\a s u s\\appdata\\local\\programs\\python\\python310\\lib\\site-packages (from click>=8.0->flask) (0.4.4)\n",
            "Requirement already satisfied: MarkupSafe>=2.0 in c:\\users\\a s u s\\appdata\\local\\programs\\python\\python310\\lib\\site-packages (from Jinja2>=3.0->flask) (2.1.1)\n"
          ]
        },
        {
          "name": "stderr",
          "output_type": "stream",
          "text": [
            "WARNING: There was an error checking the latest version of pip.\n"
          ]
        },
        {
          "name": "stdout",
          "output_type": "stream",
          "text": [
            "Collecting ngrok\n",
            "  Using cached ngrok-0.1.6.tar.gz (3.5 kB)\n",
            "  Preparing metadata (setup.py): started\n",
            "  Preparing metadata (setup.py): finished with status 'done'\n",
            "Collecting ping\n",
            "  Using cached ping-0.2.tar.gz (10 kB)\n",
            "  Preparing metadata (setup.py): started\n",
            "  Preparing metadata (setup.py): finished with status 'error'\n"
          ]
        },
        {
          "name": "stderr",
          "output_type": "stream",
          "text": [
            "  error: subprocess-exited-with-error\n",
            "  \n",
            "  × python setup.py egg_info did not run successfully.\n",
            "  │ exit code: 1\n",
            "  ╰─> [9 lines of output]\n",
            "      Traceback (most recent call last):\n",
            "        File \"<string>\", line 2, in <module>\n",
            "        File \"<pip-setuptools-caller>\", line 34, in <module>\n",
            "        File \"C:\\Users\\A S U S\\AppData\\Local\\Temp\\pip-install-ue_2fxy7\\ping_b50aed46b01e409cb9447abafef47738\\setup.py\", line 23, in <module>\n",
            "          from ping import __version__\n",
            "        File \"C:\\Users\\A S U S\\AppData\\Local\\Temp\\pip-install-ue_2fxy7\\ping_b50aed46b01e409cb9447abafef47738\\ping.py\", line 196\n",
            "          except socket.error, (errno, msg):\n",
            "                 ^^^^^^^^^^^^^^^^^^^^^^^^^^\n",
            "      SyntaxError: multiple exception types must be parenthesized\n",
            "      [end of output]\n",
            "  \n",
            "  note: This error originates from a subprocess, and is likely not a problem with pip.\n",
            "error: metadata-generation-failed\n",
            "\n",
            "× Encountered error while generating package metadata.\n",
            "╰─> See above for output.\n",
            "\n",
            "note: This is an issue with the package mentioned above, not pip.\n",
            "hint: See above for details.\n",
            "WARNING: There was an error checking the latest version of pip.\n"
          ]
        }
      ],
      "source": [
        "!pip install flask-ngrok\n",
        "!pip install gevent\n",
        "!pip install flask\n",
        "!pip install ngrok"
      ]
    },
    {
      "cell_type": "code",
      "execution_count": 2,
      "metadata": {
        "colab": {
          "base_uri": "https://localhost:8080/"
        },
        "id": "ZM07rRh5ByNY",
        "outputId": "db5493e0-28e1-4956-e2f5-a5ecdd728484"
      },
      "outputs": [
        {
          "name": "stdout",
          "output_type": "stream",
          "text": [
            "Requirement already satisfied: pyngrok in c:\\users\\a s u s\\appdata\\local\\programs\\python\\python310\\lib\\site-packages (5.1.0)\n",
            "Requirement already satisfied: PyYAML in c:\\users\\a s u s\\appdata\\local\\programs\\python\\python310\\lib\\site-packages (from pyngrok) (6.0)\n"
          ]
        },
        {
          "name": "stderr",
          "output_type": "stream",
          "text": [
            "WARNING: There was an error checking the latest version of pip.\n"
          ]
        }
      ],
      "source": [
        "!pip install pyngrok"
      ]
    },
    {
      "cell_type": "code",
      "execution_count": 3,
      "metadata": {
        "colab": {
          "base_uri": "https://localhost:8080/"
        },
        "id": "-itmxBLdB3mf",
        "outputId": "a8cfae67-613a-4bcc-9a9e-1fe5b1598c65"
      },
      "outputs": [
        {
          "name": "stdout",
          "output_type": "stream",
          "text": [
            "Authtoken saved to configuration file: C:\\Users\\A S U S/.ngrok2/ngrok.yml\n"
          ]
        }
      ],
      "source": [
        "\n",
        "!ngrok authtoken 2BSOwy2L4FINV7Qc3ZenJdwsrMO_VgMdfj4pD8K1YewwG74v"
      ]
    },
    {
      "cell_type": "code",
      "execution_count": 4,
      "metadata": {
        "id": "YpnXGe8GB5dv"
      },
      "outputs": [],
      "source": [
        "from __future__ import division, print_function\n",
        "# coding=utf-8\n",
        "import sys\n",
        "import os\n",
        "import glob\n",
        "import re\n",
        "import numpy as np\n",
        "# Keras\n",
        "from keras.applications.imagenet_utils import preprocess_input, decode_predictions\n",
        "from keras.models import load_model\n",
        "from keras.preprocessing import image\n",
        "# Flask utils\n",
        "from flask import Flask, redirect, url_for, request, render_template\n",
        "from werkzeug.utils import secure_filename\n",
        "from gevent.pywsgi import WSGIServer"
      ]
    },
    {
      "cell_type": "code",
      "execution_count": 5,
      "metadata": {
        "id": "kFJA97xEB69g"
      },
      "outputs": [],
      "source": [
        "import flask\n",
        "from flask import request\n",
        "import pandas as pd\n",
        "import tensorflow as tf\n",
        "import keras\n",
        "import numpy as np\n",
        "import random\n",
        "import os\n",
        "from os.path import join, dirname, realpath\n",
        "from tensorflow.keras.preprocessing.image import img_to_array, load_img\n",
        "from flask_ngrok import run_with_ngrok\n",
        "from werkzeug.utils import secure_filename\n",
        "import json"
      ]
    },
    {
      "cell_type": "code",
      "execution_count": 6,
      "metadata": {
        "id": "s_uZFTBGB8qA"
      },
      "outputs": [],
      "source": [
        "app = Flask(__name__)\n",
        "model = tf.keras.models.load_model('UasWAD.h5')\n",
        "run_with_ngrok(app)\n"
      ]
    },
    {
      "cell_type": "code",
      "execution_count": 7,
      "metadata": {
        "id": "AEufauVEB-R_"
      },
      "outputs": [],
      "source": [
        "@app.route('/', methods=['GET'])\n",
        "def index():\n",
        "  return \"<h1>Hello World</h1>\"\n",
        "@app.route('/predict2', methods=['GET', 'POST'])\n",
        "def upload():\n",
        "  data={\"success\":False}\n",
        "  namafile=''\n",
        "  if request.method == 'POST':\n",
        "    file = request.files['file']\n",
        "    if file.filename == '':\n",
        "      data[\"file\"]=\"Tidak ada file\"\n",
        "    else:\n",
        "      data[\"file\"]=\"File berhasil di simpan\"\n",
        "      filename = secure_filename(file.filename)\n",
        "      file.save('data_tes/'+file.filename)\n",
        "      namafile='data_tes/'+file.filename\n",
        "    img = load_img(namafile, target_size=(150, 150))\n",
        "    x = img_to_array(img)\n",
        "    x = x.reshape((1,) + x.shape)\n",
        "    x /= 255.0\n",
        "    predict_prob=model.predict(x, batch_size=1)\n",
        "    data[\"success\"]=True\n",
        "    label=0\n",
        "    predict_classes=np.argmax(predict_prob,axis=1)#indezx dengan prob tertinggi\n",
        "    data[\"acc_moped\"]=float(predict_prob[0][0])\n",
        "    data[\"acc_sport\"]=float(predict_prob[0][1])\n",
        "    data[\"acc_scooter\"]=float(predict_prob[0][2])\n",
        "    label=(int)(predict_classes[0])\n",
        "    data[\"label\"]=label\n",
        "    print(predict_classes[0])\n",
        "    out_file = open(\"data.json\",\"w\")\n",
        "    data=json.dump(data, out_file, indent=6)\n",
        "    out_file.close()\n",
        "    return flask.jsonify(data)"
      ]
    },
    {
      "cell_type": "code",
      "execution_count": 8,
      "metadata": {
        "colab": {
          "background_save": true,
          "base_uri": "https://localhost:8080/"
        },
        "id": "BS-Crt-uICPa",
        "outputId": "c41f585c-2263-465f-faa0-9a69ba773be2"
      },
      "outputs": [
        {
          "name": "stdout",
          "output_type": "stream",
          "text": [
            " * Serving Flask app '__main__' (lazy loading)\n",
            " * Environment: production\n",
            "\u001b[31m   WARNING: This is a development server. Do not use it in a production deployment.\u001b[0m\n",
            "\u001b[2m   Use a production WSGI server instead.\u001b[0m\n",
            " * Debug mode: off\n"
          ]
        },
        {
          "name": "stderr",
          "output_type": "stream",
          "text": [
            " * Running on http://127.0.0.1:5000 (Press CTRL+C to quit)\n"
          ]
        },
        {
          "name": "stdout",
          "output_type": "stream",
          "text": [
            " * Running on http://e563-112-215-200-155.ngrok.io\n",
            " * Traffic stats available on http://127.0.0.1:4040\n"
          ]
        }
      ],
      "source": [
        "app.run()"
      ]
    }
  ],
  "metadata": {
    "colab": {
      "name": "Server WAD.ipynb",
      "provenance": []
    },
    "kernelspec": {
      "display_name": "Python 3.10.0 64-bit",
      "language": "python",
      "name": "python3"
    },
    "language_info": {
      "codemirror_mode": {
        "name": "ipython",
        "version": 3
      },
      "file_extension": ".py",
      "mimetype": "text/x-python",
      "name": "python",
      "nbconvert_exporter": "python",
      "pygments_lexer": "ipython3",
      "version": "3.10.0"
    },
    "vscode": {
      "interpreter": {
        "hash": "68ef5886dc0915938d6a35456ea8775afce48d9f374f32ed0ffd620d09a1db6b"
      }
    }
  },
  "nbformat": 4,
  "nbformat_minor": 0
}
